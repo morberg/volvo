{
 "cells": [
  {
   "cell_type": "code",
   "execution_count": 2,
   "metadata": {},
   "outputs": [],
   "source": [
    "#%load_ext lab_black\n",
    "import pandas as pd\n",
    "import altair as alt\n",
    "import datetime as dt\n",
    "from IPython.display import Markdown as md\n",
    "\n",
    "max_annual_distance = 15_000_000\n",
    "csv_file = \"odometer.csv\"\n",
    "# Dates to show in graph\n",
    "start_date = \"2020-05-29\"\n",
    "end_date = dt.datetime.today().isoformat()\n",
    "days_driven = (dt.datetime.today() - pd.to_datetime(start_date)).days\n",
    "target_distance = (\n",
    "    max_annual_distance\n",
    "    * (pd.to_datetime(end_date) - pd.to_datetime(start_date)).days\n",
    "    / 365\n",
    ")\n",
    "\n",
    "max_distance_today = (\n",
    "    max_annual_distance\n",
    "    * days_driven / 365\n",
    ")"
   ]
  },
  {
   "cell_type": "code",
   "execution_count": 3,
   "metadata": {},
   "outputs": [],
   "source": [
    "df_csv = pd.read_csv(csv_file, parse_dates=[\"date\"])\n",
    "df_csv = df_csv.melt(\"date\", value_name=\"distance\")\n",
    "df_max = pd.DataFrame(\n",
    "    {\n",
    "        \"date\": pd.to_datetime([start_date, end_date], utc=True),\n",
    "        \"variable\": \"Max km\",\n",
    "        \"distance\": [0, target_distance],\n",
    "    }\n",
    ")\n",
    "df = pd.concat([df_max, df_csv])\n",
    "df.distance = df.distance / 1000\n",
    "df = df.replace('odometer', 'Körda km')\n",
    "df = df.rename(columns={'distance': 'Sträcka i km'})"
   ]
  },
  {
   "cell_type": "code",
   "execution_count": 15,
   "metadata": {},
   "outputs": [],
   "source": [
    "current = float(df.tail(1)['Sträcka i km'])\n",
    "remaining = max_distance_today / 1000 - current\n",
    "current_avg = current / days_driven\n",
    "max_avg = max_annual_distance / 1000 / 365\n",
    "prognosis = current_avg * 365"
   ]
  },
  {
   "cell_type": "code",
   "execution_count": 39,
   "metadata": {},
   "outputs": [
    {
     "output_type": "execute_result",
     "data": {
      "text/plain": "<IPython.core.display.Markdown object>",
      "text/markdown": "\n# Körda kilometer sedan 29 maj 2020\n\nDen **2020-07-14** har vi kört **1,404 km** och har **486 km** i utrymme till maximala km.\n\nVi har kört i snitt **30.5 km** per dag och kan köra i snitt **41.1 km** per dag. Med nuvarande snitt kommer vi att hamna på **11,143 km** efter ett år.\n"
     },
     "metadata": {},
     "execution_count": 39
    }
   ],
   "source": [
    "md(f\"\"\"\n",
    "# Körda kilometer sedan 29 maj 2020\n",
    "\n",
    "Den **{dt.datetime.today().strftime('%Y-%m-%d')}** har vi kört **{current:,.0f} km** och har **{remaining:,.0f} km** i utrymme till maximala km.\n",
    "\n",
    "Vi har kört i snitt **{current_avg:.1f} km** per dag och kan köra i snitt **{max_avg:.1f} km** per dag. Med nuvarande snitt kommer vi att hamna på **{prognosis:,.0f} km** efter ett år.\n",
    "\"\"\")"
   ]
  },
  {
   "cell_type": "code",
   "execution_count": 5,
   "metadata": {},
   "outputs": [
    {
     "output_type": "execute_result",
     "data": {
      "text/html": "\n<div id=\"altair-viz-841a1abaf09845b494e33e5d01d616bd\"></div>\n<script type=\"text/javascript\">\n  (function(spec, embedOpt){\n    let outputDiv = document.currentScript.previousElementSibling;\n    if (outputDiv.id !== \"altair-viz-841a1abaf09845b494e33e5d01d616bd\") {\n      outputDiv = document.getElementById(\"altair-viz-841a1abaf09845b494e33e5d01d616bd\");\n    }\n    const paths = {\n      \"vega\": \"https://cdn.jsdelivr.net/npm//vega@5?noext\",\n      \"vega-lib\": \"https://cdn.jsdelivr.net/npm//vega-lib?noext\",\n      \"vega-lite\": \"https://cdn.jsdelivr.net/npm//vega-lite@4.8.1?noext\",\n      \"vega-embed\": \"https://cdn.jsdelivr.net/npm//vega-embed@6?noext\",\n    };\n\n    function loadScript(lib) {\n      return new Promise(function(resolve, reject) {\n        var s = document.createElement('script');\n        s.src = paths[lib];\n        s.async = true;\n        s.onload = () => resolve(paths[lib]);\n        s.onerror = () => reject(`Error loading script: ${paths[lib]}`);\n        document.getElementsByTagName(\"head\")[0].appendChild(s);\n      });\n    }\n\n    function showError(err) {\n      outputDiv.innerHTML = `<div class=\"error\" style=\"color:red;\">${err}</div>`;\n      throw err;\n    }\n\n    function displayChart(vegaEmbed) {\n      vegaEmbed(outputDiv, spec, embedOpt)\n        .catch(err => showError(`Javascript Error: ${err.message}<br>This usually means there's a typo in your chart specification. See the javascript console for the full traceback.`));\n    }\n\n    if(typeof define === \"function\" && define.amd) {\n      requirejs.config({paths});\n      require([\"vega-embed\"], displayChart, err => showError(`Error loading script: ${err.message}`));\n    } else if (typeof vegaEmbed === \"function\") {\n      displayChart(vegaEmbed);\n    } else {\n      loadScript(\"vega\")\n        .then(() => loadScript(\"vega-lite\"))\n        .then(() => loadScript(\"vega-embed\"))\n        .catch(showError)\n        .then(() => displayChart(vegaEmbed));\n    }\n  })({\"config\": {\"view\": {\"continuousWidth\": 400, \"continuousHeight\": 300}}, \"data\": {\"name\": \"data-9d7852e9b5c096588921136373445a73\"}, \"mark\": {\"type\": \"line\", \"size\": 4}, \"encoding\": {\"color\": {\"type\": \"nominal\", \"field\": \"variable\", \"scale\": {\"scheme\": \"dark2\"}, \"title\": \"\"}, \"tooltip\": [{\"type\": \"temporal\", \"field\": \"date\", \"title\": \"Datum\"}, {\"type\": \"quantitative\", \"field\": \"Str\\u00e4cka i km\"}], \"x\": {\"type\": \"temporal\", \"field\": \"date\", \"scale\": {\"domain\": [\"2020-05-29\", \"2020-07-14T11:14:45.172290\"]}, \"timeUnit\": \"yearmonthdate\", \"title\": \"Datum\"}, \"y\": {\"type\": \"quantitative\", \"field\": \"Str\\u00e4cka i km\"}}, \"height\": 500, \"width\": 600, \"$schema\": \"https://vega.github.io/schema/vega-lite/v4.8.1.json\", \"datasets\": {\"data-9d7852e9b5c096588921136373445a73\": [{\"date\": \"2020-05-29T00:00:00+00:00\", \"variable\": \"Max km\", \"Str\\u00e4cka i km\": 0.0}, {\"date\": \"2020-07-14T11:14:45.172290+00:00\", \"variable\": \"Max km\", \"Str\\u00e4cka i km\": 1890.4109589041097}, {\"date\": \"2020-06-01T00:36:40+00:00\", \"variable\": \"K\\u00f6rda km\", \"Str\\u00e4cka i km\": 198.041}, {\"date\": \"2020-06-02T08:18:45+00:00\", \"variable\": \"K\\u00f6rda km\", \"Str\\u00e4cka i km\": 282.735}, {\"date\": \"2020-06-04T00:10:14+00:00\", \"variable\": \"K\\u00f6rda km\", \"Str\\u00e4cka i km\": 295.098}, {\"date\": \"2020-06-05T00:01:48+00:00\", \"variable\": \"K\\u00f6rda km\", \"Str\\u00e4cka i km\": 295.098}, {\"date\": \"2020-06-06T00:11:44+00:00\", \"variable\": \"K\\u00f6rda km\", \"Str\\u00e4cka i km\": 295.098}, {\"date\": \"2020-06-07T00:11:36+00:00\", \"variable\": \"K\\u00f6rda km\", \"Str\\u00e4cka i km\": 301.534}, {\"date\": \"2020-06-08T00:11:18+00:00\", \"variable\": \"K\\u00f6rda km\", \"Str\\u00e4cka i km\": 305.66}, {\"date\": \"2020-06-09T00:06:48+00:00\", \"variable\": \"K\\u00f6rda km\", \"Str\\u00e4cka i km\": 323.544}, {\"date\": \"2020-06-10T00:07:16+00:00\", \"variable\": \"K\\u00f6rda km\", \"Str\\u00e4cka i km\": 352.162}, {\"date\": \"2020-06-11T00:06:51+00:00\", \"variable\": \"K\\u00f6rda km\", \"Str\\u00e4cka i km\": 402.273}, {\"date\": \"2020-06-12T00:07:14+00:00\", \"variable\": \"K\\u00f6rda km\", \"Str\\u00e4cka i km\": 421.123}, {\"date\": \"2020-06-13T00:07:02+00:00\", \"variable\": \"K\\u00f6rda km\", \"Str\\u00e4cka i km\": 426.678}, {\"date\": \"2020-06-14T00:07:37+00:00\", \"variable\": \"K\\u00f6rda km\", \"Str\\u00e4cka i km\": 432.066}, {\"date\": \"2020-06-15T00:07:06+00:00\", \"variable\": \"K\\u00f6rda km\", \"Str\\u00e4cka i km\": 459.655}, {\"date\": \"2020-06-16T00:07:02+00:00\", \"variable\": \"K\\u00f6rda km\", \"Str\\u00e4cka i km\": 579.657}, {\"date\": \"2020-06-17T00:07:15+00:00\", \"variable\": \"K\\u00f6rda km\", \"Str\\u00e4cka i km\": 591.271}, {\"date\": \"2020-06-18T00:08:17+00:00\", \"variable\": \"K\\u00f6rda km\", \"Str\\u00e4cka i km\": 684.703}, {\"date\": \"2020-06-19T00:07:21+00:00\", \"variable\": \"K\\u00f6rda km\", \"Str\\u00e4cka i km\": 684.703}, {\"date\": \"2020-06-20T00:07:14+00:00\", \"variable\": \"K\\u00f6rda km\", \"Str\\u00e4cka i km\": 706.941}, {\"date\": \"2020-06-21T00:07:33+00:00\", \"variable\": \"K\\u00f6rda km\", \"Str\\u00e4cka i km\": 706.941}, {\"date\": \"2020-06-22T00:07:15+00:00\", \"variable\": \"K\\u00f6rda km\", \"Str\\u00e4cka i km\": 724.277}, {\"date\": \"2020-06-23T00:07:21+00:00\", \"variable\": \"K\\u00f6rda km\", \"Str\\u00e4cka i km\": 779.532}, {\"date\": \"2020-06-24T00:07:40+00:00\", \"variable\": \"K\\u00f6rda km\", \"Str\\u00e4cka i km\": 790.869}, {\"date\": \"2020-06-25T00:07:24+00:00\", \"variable\": \"K\\u00f6rda km\", \"Str\\u00e4cka i km\": 806.469}, {\"date\": \"2020-06-26T00:07:59+00:00\", \"variable\": \"K\\u00f6rda km\", \"Str\\u00e4cka i km\": 852.205}, {\"date\": \"2020-06-27T00:07:26+00:00\", \"variable\": \"K\\u00f6rda km\", \"Str\\u00e4cka i km\": 890.873}, {\"date\": \"2020-06-28T00:07:49+00:00\", \"variable\": \"K\\u00f6rda km\", \"Str\\u00e4cka i km\": 890.873}, {\"date\": \"2020-06-29T00:07:31+00:00\", \"variable\": \"K\\u00f6rda km\", \"Str\\u00e4cka i km\": 916.525}, {\"date\": \"2020-06-30T00:07:23+00:00\", \"variable\": \"K\\u00f6rda km\", \"Str\\u00e4cka i km\": 940.159}, {\"date\": \"2020-07-01T00:09:19+00:00\", \"variable\": \"K\\u00f6rda km\", \"Str\\u00e4cka i km\": 959.609}, {\"date\": \"2020-07-02T00:08:52+00:00\", \"variable\": \"K\\u00f6rda km\", \"Str\\u00e4cka i km\": 1006.255}, {\"date\": \"2020-07-03T00:09:20+00:00\", \"variable\": \"K\\u00f6rda km\", \"Str\\u00e4cka i km\": 1014.673}, {\"date\": \"2020-07-04T00:08:46+00:00\", \"variable\": \"K\\u00f6rda km\", \"Str\\u00e4cka i km\": 1023.12}, {\"date\": \"2020-07-05T00:09:15+00:00\", \"variable\": \"K\\u00f6rda km\", \"Str\\u00e4cka i km\": 1049.466}, {\"date\": \"2020-07-06T00:09:27+00:00\", \"variable\": \"K\\u00f6rda km\", \"Str\\u00e4cka i km\": 1114.96}, {\"date\": \"2020-07-07T00:09:03+00:00\", \"variable\": \"K\\u00f6rda km\", \"Str\\u00e4cka i km\": 1130.48}, {\"date\": \"2020-07-08T00:08:57+00:00\", \"variable\": \"K\\u00f6rda km\", \"Str\\u00e4cka i km\": 1191.241}, {\"date\": \"2020-07-09T00:08:52+00:00\", \"variable\": \"K\\u00f6rda km\", \"Str\\u00e4cka i km\": 1286.555}, {\"date\": \"2020-07-10T00:08:58+00:00\", \"variable\": \"K\\u00f6rda km\", \"Str\\u00e4cka i km\": 1295.389}, {\"date\": \"2020-07-11T00:09:18+00:00\", \"variable\": \"K\\u00f6rda km\", \"Str\\u00e4cka i km\": 1363.619}, {\"date\": \"2020-07-12T00:09:27+00:00\", \"variable\": \"K\\u00f6rda km\", \"Str\\u00e4cka i km\": 1363.619}, {\"date\": \"2020-07-13T00:09:17+00:00\", \"variable\": \"K\\u00f6rda km\", \"Str\\u00e4cka i km\": 1392.86}, {\"date\": \"2020-07-14T00:09:06+00:00\", \"variable\": \"K\\u00f6rda km\", \"Str\\u00e4cka i km\": 1404.334}]}}, {\"mode\": \"vega-lite\"});\n</script>",
      "text/plain": "alt.Chart(...)"
     },
     "metadata": {},
     "execution_count": 5
    }
   ],
   "source": [
    "line = alt.Chart(df, width=600, height=500).mark_line(size=4).encode(\n",
    "    x=alt.X(\"yearmonthdate(date)\", title=\"Datum\", scale=alt.Scale(domain=(start_date, end_date))),\n",
    "    y=\"Sträcka i km\",\n",
    "    color=alt.Color(\"variable\", title=\"\", scale=alt.Scale(scheme=\"dark2\")),\n",
    "    tooltip=[alt.Tooltip(\"date\", title=\"Datum\"), \"Sträcka i km\"],\n",
    ")\n",
    "\n",
    "line"
   ]
  },
  {
   "cell_type": "code",
   "execution_count": null,
   "metadata": {},
   "outputs": [],
   "source": []
  }
 ],
 "metadata": {
  "kernelspec": {
   "display_name": "Python 3.8.0 64-bit ('3.8.0': pyenv)",
   "language": "python",
   "name": "python38064bit380pyenv663c04aa123640ccb340a8745709dbbc"
  },
  "language_info": {
   "codemirror_mode": {
    "name": "ipython",
    "version": 3
   },
   "file_extension": ".py",
   "mimetype": "text/x-python",
   "name": "python",
   "nbconvert_exporter": "python",
   "pygments_lexer": "ipython3",
   "version": "3.8.0-final"
  }
 },
 "nbformat": 4,
 "nbformat_minor": 4
}