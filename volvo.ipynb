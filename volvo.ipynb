{
 "cells": [
  {
   "cell_type": "code",
   "execution_count": 1,
   "metadata": {},
   "outputs": [],
   "source": [
    "import pandas as pd\n",
    "import altair as alt\n",
    "\n",
    "max_annual_distance = 15_000_000\n",
    "csv_file = 'odometer.csv'\n",
    "# Dates to show in graph\n",
    "start_date = '2020-06-01'\n",
    "end_date = '2020-06-10'"
   ]
  },
  {
   "cell_type": "code",
   "execution_count": 2,
   "metadata": {},
   "outputs": [],
   "source": [
    "df_csv = pd.read_csv(csv_file, parse_dates=['date'])\n",
    "df_csv = df_csv.melt('date', value_name='distance')\n",
    "df_max = pd.DataFrame({'date': pd.to_datetime(['2020-06-01', '2021-05-31'], utc=True),\n",
    "                        'variable': 'max_distance',\n",
    "                        'distance': [0, max_annual_distance]})\n",
    "df = pd.concat([df_max, df_csv])"
   ]
  },
  {
   "cell_type": "code",
   "execution_count": 3,
   "metadata": {},
   "outputs": [
    {
     "output_type": "execute_result",
     "data": {
      "text/html": "\n<div id=\"altair-viz-585ea718a44f4d8ea8e227b697492ab4\"></div>\n<script type=\"text/javascript\">\n  (function(spec, embedOpt){\n    let outputDiv = document.currentScript.previousElementSibling;\n    if (outputDiv.id !== \"altair-viz-585ea718a44f4d8ea8e227b697492ab4\") {\n      outputDiv = document.getElementById(\"altair-viz-585ea718a44f4d8ea8e227b697492ab4\");\n    }\n    const paths = {\n      \"vega\": \"https://cdn.jsdelivr.net/npm//vega@5?noext\",\n      \"vega-lib\": \"https://cdn.jsdelivr.net/npm//vega-lib?noext\",\n      \"vega-lite\": \"https://cdn.jsdelivr.net/npm//vega-lite@4.8.1?noext\",\n      \"vega-embed\": \"https://cdn.jsdelivr.net/npm//vega-embed@6?noext\",\n    };\n\n    function loadScript(lib) {\n      return new Promise(function(resolve, reject) {\n        var s = document.createElement('script');\n        s.src = paths[lib];\n        s.async = true;\n        s.onload = () => resolve(paths[lib]);\n        s.onerror = () => reject(`Error loading script: ${paths[lib]}`);\n        document.getElementsByTagName(\"head\")[0].appendChild(s);\n      });\n    }\n\n    function showError(err) {\n      outputDiv.innerHTML = `<div class=\"error\" style=\"color:red;\">${err}</div>`;\n      throw err;\n    }\n\n    function displayChart(vegaEmbed) {\n      vegaEmbed(outputDiv, spec, embedOpt)\n        .catch(err => showError(`Javascript Error: ${err.message}<br>This usually means there's a typo in your chart specification. See the javascript console for the full traceback.`));\n    }\n\n    if(typeof define === \"function\" && define.amd) {\n      requirejs.config({paths});\n      require([\"vega-embed\"], displayChart, err => showError(`Error loading script: ${err.message}`));\n    } else if (typeof vegaEmbed === \"function\") {\n      displayChart(vegaEmbed);\n    } else {\n      loadScript(\"vega\")\n        .then(() => loadScript(\"vega-lite\"))\n        .then(() => loadScript(\"vega-embed\"))\n        .catch(showError)\n        .then(() => displayChart(vegaEmbed));\n    }\n  })({\"config\": {\"view\": {\"continuousWidth\": 400, \"continuousHeight\": 300}}, \"data\": {\"name\": \"data-18d18cbc2c6e2b5f4f5425d2840bb075\"}, \"mark\": \"line\", \"encoding\": {\"color\": {\"type\": \"nominal\", \"field\": \"variable\"}, \"tooltip\": [{\"type\": \"temporal\", \"field\": \"date\"}, {\"type\": \"quantitative\", \"field\": \"distance\"}, {\"type\": \"nominal\", \"field\": \"variable\"}], \"x\": {\"type\": \"temporal\", \"field\": \"date\", \"scale\": {\"domain\": [\"2020-06-01\", \"2020-06-10\"]}}, \"y\": {\"type\": \"quantitative\", \"field\": \"distance\", \"scale\": {\"domain\": [0, 500000]}}}, \"selection\": {\"selector001\": {\"type\": \"interval\", \"bind\": \"scales\", \"encodings\": [\"x\", \"y\"]}}, \"$schema\": \"https://vega.github.io/schema/vega-lite/v4.8.1.json\", \"datasets\": {\"data-18d18cbc2c6e2b5f4f5425d2840bb075\": [{\"date\": \"2020-06-01T00:00:00+00:00\", \"variable\": \"max_distance\", \"distance\": 0}, {\"date\": \"2021-05-31T00:00:00+00:00\", \"variable\": \"max_distance\", \"distance\": 15000000}, {\"date\": \"2020-06-01T00:36:40+00:00\", \"variable\": \"odometer\", \"distance\": 198041}, {\"date\": \"2020-06-02T08:18:45+00:00\", \"variable\": \"odometer\", \"distance\": 282735}, {\"date\": \"2020-06-04T00:10:14+00:00\", \"variable\": \"odometer\", \"distance\": 295098}, {\"date\": \"2020-06-04T07:09:24+00:00\", \"variable\": \"odometer\", \"distance\": 295098}]}}, {\"mode\": \"vega-lite\"});\n</script>",
      "text/plain": "alt.Chart(...)"
     },
     "metadata": {},
     "execution_count": 3
    }
   ],
   "source": [
    "alt.Chart(df).mark_line().encode(\n",
    "    x=alt.X('date:T', scale=alt.Scale(domain=(start_date,end_date))),\n",
    "    y=alt.X('distance', scale=alt.Scale(domain=(0,500000))),\n",
    "    color='variable',\n",
    "    tooltip=['date', 'distance', 'variable']\n",
    ").interactive()"
   ]
  }
 ],
 "metadata": {
  "language_info": {
   "codemirror_mode": {
    "name": "ipython",
    "version": 3
   },
   "file_extension": ".py",
   "mimetype": "text/x-python",
   "name": "python",
   "nbconvert_exporter": "python",
   "pygments_lexer": "ipython3",
   "version": "3.8.0-final"
  },
  "orig_nbformat": 2,
  "kernelspec": {
   "name": "python38064bit380pyenv663c04aa123640ccb340a8745709dbbc",
   "display_name": "Python 3.8.0 64-bit ('3.8.0': pyenv)"
  }
 },
 "nbformat": 4,
 "nbformat_minor": 2
}