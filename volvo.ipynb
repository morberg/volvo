{
 "cells": [
  {
   "cell_type": "code",
   "execution_count": 1,
   "metadata": {},
   "outputs": [],
   "source": [
    "import pandas as pd\n",
    "import altair as alt\n",
    "\n",
    "max_annual_distance = 15_000_000\n",
    "csv_file = 'odometer.csv'"
   ]
  },
  {
   "cell_type": "code",
   "execution_count": 10,
   "metadata": {},
   "outputs": [
    {
     "output_type": "stream",
     "name": "stdout",
     "text": "<class 'pandas.core.frame.DataFrame'>\nInt64Index: 4 entries, 0 to 1\nData columns (total 3 columns):\ndate        4 non-null datetime64[ns, UTC]\nvariable    4 non-null object\ndistance    4 non-null int64\ndtypes: datetime64[ns, UTC](1), int64(1), object(1)\nmemory usage: 128.0+ bytes\n"
    }
   ],
   "source": [
    "df_csv = pd.read_csv(csv_file, parse_dates=['date'])\n",
    "df_csv = df_csv.melt('date', value_name='distance')\n",
    "df_max = pd.DataFrame({'date': pd.to_datetime(['2020-06-01T20:36:40+0000', '2021-05-31T20:36:40+0000']),\n",
    "                        'variable': ['max_distance', 'max_distance'],\n",
    "                        'distance': [0, max_annual_distance]})\n",
    "df = pd.concat([df_max, df_csv])\n",
    "df.info()"
   ]
  },
  {
   "cell_type": "code",
   "execution_count": 11,
   "metadata": {},
   "outputs": [
    {
     "output_type": "execute_result",
     "data": {
      "text/html": "\n<div id=\"altair-viz-dfe37807d4d046039960bc7dc8b49b05\"></div>\n<script type=\"text/javascript\">\n  (function(spec, embedOpt){\n    let outputDiv = document.currentScript.previousElementSibling;\n    if (outputDiv.id !== \"altair-viz-dfe37807d4d046039960bc7dc8b49b05\") {\n      outputDiv = document.getElementById(\"altair-viz-dfe37807d4d046039960bc7dc8b49b05\");\n    }\n    const paths = {\n      \"vega\": \"https://cdn.jsdelivr.net/npm//vega@5?noext\",\n      \"vega-lib\": \"https://cdn.jsdelivr.net/npm//vega-lib?noext\",\n      \"vega-lite\": \"https://cdn.jsdelivr.net/npm//vega-lite@4.8.1?noext\",\n      \"vega-embed\": \"https://cdn.jsdelivr.net/npm//vega-embed@6?noext\",\n    };\n\n    function loadScript(lib) {\n      return new Promise(function(resolve, reject) {\n        var s = document.createElement('script');\n        s.src = paths[lib];\n        s.async = true;\n        s.onload = () => resolve(paths[lib]);\n        s.onerror = () => reject(`Error loading script: ${paths[lib]}`);\n        document.getElementsByTagName(\"head\")[0].appendChild(s);\n      });\n    }\n\n    function showError(err) {\n      outputDiv.innerHTML = `<div class=\"error\" style=\"color:red;\">${err}</div>`;\n      throw err;\n    }\n\n    function displayChart(vegaEmbed) {\n      vegaEmbed(outputDiv, spec, embedOpt)\n        .catch(err => showError(`Javascript Error: ${err.message}<br>This usually means there's a typo in your chart specification. See the javascript console for the full traceback.`));\n    }\n\n    if(typeof define === \"function\" && define.amd) {\n      requirejs.config({paths});\n      require([\"vega-embed\"], displayChart, err => showError(`Error loading script: ${err.message}`));\n    } else if (typeof vegaEmbed === \"function\") {\n      displayChart(vegaEmbed);\n    } else {\n      loadScript(\"vega\")\n        .then(() => loadScript(\"vega-lite\"))\n        .then(() => loadScript(\"vega-embed\"))\n        .catch(showError)\n        .then(() => displayChart(vegaEmbed));\n    }\n  })({\"config\": {\"view\": {\"continuousWidth\": 400, \"continuousHeight\": 300}}, \"data\": {\"name\": \"data-2a9b4f0451a4796d8cde265a695756a7\"}, \"mark\": \"line\", \"encoding\": {\"color\": {\"type\": \"nominal\", \"field\": \"variable\"}, \"tooltip\": [{\"type\": \"temporal\", \"field\": \"date\"}, {\"type\": \"quantitative\", \"field\": \"distance\"}, {\"type\": \"nominal\", \"field\": \"variable\"}], \"x\": {\"type\": \"temporal\", \"field\": \"date\", \"scale\": {\"domain\": [\"2020-06-01\", \"2020-06-10\"]}}, \"y\": {\"type\": \"quantitative\", \"field\": \"distance\", \"scale\": {\"domain\": [0, 500000]}}}, \"selection\": {\"selector002\": {\"type\": \"interval\", \"bind\": \"scales\", \"encodings\": [\"x\", \"y\"]}}, \"$schema\": \"https://vega.github.io/schema/vega-lite/v4.8.1.json\", \"datasets\": {\"data-2a9b4f0451a4796d8cde265a695756a7\": [{\"date\": \"2020-06-01T20:36:40+00:00\", \"variable\": \"max_distance\", \"distance\": 0}, {\"date\": \"2021-05-31T20:36:40+00:00\", \"variable\": \"max_distance\", \"distance\": 15000000}, {\"date\": \"2020-06-01T20:36:40+00:00\", \"variable\": \"odometer\", \"distance\": 198041}, {\"date\": \"2020-06-02T20:36:40+00:00\", \"variable\": \"odometer\", \"distance\": 220000}]}}, {\"mode\": \"vega-lite\"});\n</script>",
      "text/plain": "alt.Chart(...)"
     },
     "metadata": {},
     "execution_count": 11
    }
   ],
   "source": [
    "alt.Chart(df).mark_line().encode(\n",
    "    x=alt.X('date:T', scale=alt.Scale(domain=('2020-06-01','2020-06-10'))),\n",
    "    y=alt.X('distance', scale=alt.Scale(domain=(0,500000))),\n",
    "    color='variable',\n",
    "    tooltip=['date', 'distance', 'variable']\n",
    ").interactive()"
   ]
  }
 ],
 "metadata": {
  "language_info": {
   "codemirror_mode": {
    "name": "ipython",
    "version": 3
   },
   "file_extension": ".py",
   "mimetype": "text/x-python",
   "name": "python",
   "nbconvert_exporter": "python",
   "pygments_lexer": "ipython3",
   "version": "3.8.0-final"
  },
  "orig_nbformat": 2,
  "kernelspec": {
   "name": "python38064bit380pyenv663c04aa123640ccb340a8745709dbbc",
   "display_name": "Python 3.8.0 64-bit ('3.8.0': pyenv)"
  }
 },
 "nbformat": 4,
 "nbformat_minor": 2
}