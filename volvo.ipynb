{
 "cells": [
  {
   "cell_type": "code",
   "execution_count": 1,
   "metadata": {},
   "outputs": [],
   "source": [
    "# Useful when running in a Jupyter notebook. Does not work in VS Code or with nbconvert\n",
    "#%load_ext lab_black\n",
    "#%config IPCompleter.greedy=True"
   ]
  },
  {
   "cell_type": "code",
   "execution_count": 2,
   "metadata": {},
   "outputs": [],
   "source": [
    "import datetime as dt\n",
    "\n",
    "import altair as alt\n",
    "import altair_morberg.core as morberg\n",
    "import pandas as pd\n",
    "from IPython.display import Markdown as md\n",
    "\n",
    "alt.themes.register(\"morberg_theme\", morberg.theme)\n",
    "alt.themes.enable(\"morberg_theme\")\n",
    "\n",
    "max_annual_distance = 15_000_000\n",
    "csv_file = \"odometer.csv\"\n",
    "# Dates to show in graph\n",
    "start_date = \"2020-06-01\"\n",
    "end_date = dt.datetime.today().isoformat()\n",
    "days_driven = (dt.datetime.today() - pd.to_datetime(start_date)).days\n",
    "target_distance = (\n",
    "    max_annual_distance\n",
    "    * (pd.to_datetime(end_date) - pd.to_datetime(start_date)).days\n",
    "    / 365\n",
    ")\n",
    "\n",
    "max_distance_today = max_annual_distance * days_driven / 365"
   ]
  },
  {
   "cell_type": "code",
   "execution_count": 3,
   "metadata": {},
   "outputs": [],
   "source": [
    "df_csv = pd.read_csv(csv_file, parse_dates=[\"date\"], na_values=0).dropna()\n",
    "df_csv = df_csv.melt(\"date\", value_name=\"distance\")\n",
    "df_max = pd.DataFrame(\n",
    "    {\n",
    "        \"date\": pd.to_datetime([start_date, end_date], utc=True),\n",
    "        \"variable\": \"Max km\",\n",
    "        \"distance\": [0, target_distance],\n",
    "    }\n",
    ")\n",
    "df = pd.concat([df_max, df_csv])\n",
    "df.distance = df.distance / 1000"
   ]
  },
  {
   "cell_type": "code",
   "execution_count": 4,
   "metadata": {},
   "outputs": [],
   "source": [
    "current = float(df.tail(1)[\"distance\"])\n",
    "remaining = max_distance_today / 1000 - current\n",
    "current_avg = current / days_driven\n",
    "max_avg = max_annual_distance / 1000 / 365\n",
    "prognosis = current_avg * 365"
   ]
  },
  {
   "cell_type": "code",
   "execution_count": 6,
   "metadata": {},
   "outputs": [
    {
     "data": {
      "text/html": [
       "\n",
       "<div id=\"altair-viz-9895b8d447db4e3e8e0038558cb99fc3\"></div>\n",
       "<script type=\"text/javascript\">\n",
       "  (function(spec, embedOpt){\n",
       "    let outputDiv = document.currentScript.previousElementSibling;\n",
       "    if (outputDiv.id !== \"altair-viz-9895b8d447db4e3e8e0038558cb99fc3\") {\n",
       "      outputDiv = document.getElementById(\"altair-viz-9895b8d447db4e3e8e0038558cb99fc3\");\n",
       "    }\n",
       "    const paths = {\n",
       "      \"vega\": \"https://cdn.jsdelivr.net/npm//vega@5?noext\",\n",
       "      \"vega-lib\": \"https://cdn.jsdelivr.net/npm//vega-lib?noext\",\n",
       "      \"vega-lite\": \"https://cdn.jsdelivr.net/npm//vega-lite@4.8.1?noext\",\n",
       "      \"vega-embed\": \"https://cdn.jsdelivr.net/npm//vega-embed@6?noext\",\n",
       "    };\n",
       "\n",
       "    function loadScript(lib) {\n",
       "      return new Promise(function(resolve, reject) {\n",
       "        var s = document.createElement('script');\n",
       "        s.src = paths[lib];\n",
       "        s.async = true;\n",
       "        s.onload = () => resolve(paths[lib]);\n",
       "        s.onerror = () => reject(`Error loading script: ${paths[lib]}`);\n",
       "        document.getElementsByTagName(\"head\")[0].appendChild(s);\n",
       "      });\n",
       "    }\n",
       "\n",
       "    function showError(err) {\n",
       "      outputDiv.innerHTML = `<div class=\"error\" style=\"color:red;\">${err}</div>`;\n",
       "      throw err;\n",
       "    }\n",
       "\n",
       "    function displayChart(vegaEmbed) {\n",
       "      vegaEmbed(outputDiv, spec, embedOpt)\n",
       "        .catch(err => showError(`Javascript Error: ${err.message}<br>This usually means there's a typo in your chart specification. See the javascript console for the full traceback.`));\n",
       "    }\n",
       "\n",
       "    if(typeof define === \"function\" && define.amd) {\n",
       "      requirejs.config({paths});\n",
       "      require([\"vega-embed\"], displayChart, err => showError(`Error loading script: ${err.message}`));\n",
       "    } else if (typeof vegaEmbed === \"function\") {\n",
       "      displayChart(vegaEmbed);\n",
       "    } else {\n",
       "      loadScript(\"vega\")\n",
       "        .then(() => loadScript(\"vega-lite\"))\n",
       "        .then(() => loadScript(\"vega-embed\"))\n",
       "        .catch(showError)\n",
       "        .then(() => displayChart(vegaEmbed));\n",
       "    }\n",
       "  })({\"config\": {\"axis\": {\"labelFontSize\": 12, \"labelColor\": \"#666\", \"titleFontSize\": 14, \"titleFontWeight\": \"normal\", \"titleColor\": \"#666\", \"tickCount\": 4}, \"axisX\": {\"grid\": false, \"gridWidth\": 0.4}, \"axisY\": {\"gridDash\": [3], \"gridWidth\": 0.4}, \"legend\": {\"titleFontSize\": 14, \"titleFontWeight\": \"normal\", \"titleColor\": \"#666\", \"labelColor\": \"#666\", \"labelFontSize\": 13}, \"font\": \"Avenir Next, sans-serif\", \"header\": {\"labelFontSize\": 14, \"labelColor\": \"#666\", \"titleFontSize\": 16, \"titleFontWeight\": \"normal\", \"titleColor\": \"#666\"}, \"headerRow\": {\"labelFontSize\": 14, \"labelColor\": \"#666\"}, \"title\": {\"anchor\": \"start\", \"frame\": \"group\", \"offset\": 10, \"fontSize\": 24, \"font\": \"Avenir Next Demi Bold\"}, \"view\": {\"strokeWidth\": 0, \"continuousWidth\": 600, \"continuousHeight\": 400}}, \"layer\": [{\"mark\": {\"type\": \"text\", \"align\": \"left\", \"dx\": 3, \"fontSize\": 14}, \"encoding\": {\"detail\": {\"type\": \"nominal\", \"field\": \"variable\"}, \"text\": {\"type\": \"nominal\", \"aggregate\": {\"argmax\": \"date\"}, \"field\": \"label\"}, \"x\": {\"type\": \"temporal\", \"aggregate\": \"max\", \"field\": \"date\"}, \"y\": {\"type\": \"quantitative\", \"aggregate\": {\"argmax\": \"date\"}, \"field\": \"distance\"}}, \"transform\": [{\"calculate\": \"(datum.variable == 'odometer' ? 'Har k\\u00f6rt ' + round(datum.distance) + ' km' : 'Max ' + round(datum.distance) + ' km')\", \"as\": \"label\"}]}, {\"mark\": {\"type\": \"line\", \"size\": 4}, \"encoding\": {\"color\": {\"type\": \"nominal\", \"field\": \"variable\", \"legend\": null, \"scale\": {\"scheme\": \"dark2\"}, \"title\": \"\"}, \"tooltip\": [{\"type\": \"temporal\", \"field\": \"date\", \"title\": \"Datum\"}, {\"type\": \"nominal\", \"field\": \"variable\"}], \"x\": {\"type\": \"temporal\", \"axis\": {\"format\": \"%b %Y\"}, \"field\": \"date\", \"scale\": {\"domain\": [\"2020-06-01\", \"2021-02-14T21:28:50.130220\"]}, \"timeUnit\": \"yearmonthdate\", \"title\": null}, \"y\": {\"type\": \"quantitative\", \"axis\": null, \"field\": \"distance\"}}, \"height\": 500, \"title\": {\"text\": \"K\\u00f6rda kilometer sedan 1 juni 2020\", \"subtitle\": \"I dag, 2021-02-14, har vi 3,051 km kvar att k\\u00f6ra till max utrymme. Med nuvarande snitt kommer vi att hamna p\\u00e5 10,684 km 1 juni 2021.\"}, \"transform\": [{\"filter\": \"(datum.variable === 'odometer')\"}], \"width\": 600}, {\"mark\": {\"type\": \"line\", \"size\": 1}, \"encoding\": {\"color\": {\"type\": \"nominal\", \"field\": \"variable\", \"legend\": null, \"scale\": {\"scheme\": \"dark2\"}, \"title\": \"\"}, \"tooltip\": [{\"type\": \"temporal\", \"field\": \"date\", \"title\": \"Datum\"}, {\"type\": \"nominal\", \"field\": \"variable\"}], \"x\": {\"type\": \"temporal\", \"axis\": {\"format\": \"%b %Y\"}, \"field\": \"date\", \"scale\": {\"domain\": [\"2020-06-01\", \"2021-02-14T21:28:50.130220\"]}, \"timeUnit\": \"yearmonthdate\", \"title\": null}, \"y\": {\"type\": \"quantitative\", \"axis\": null, \"field\": \"distance\"}}, \"height\": 500, \"title\": {\"text\": \"K\\u00f6rda kilometer sedan 1 juni 2020\", \"subtitle\": \"I dag, 2021-02-14, har vi 3,051 km kvar att k\\u00f6ra till max utrymme. Med nuvarande snitt kommer vi att hamna p\\u00e5 10,684 km 1 juni 2021.\"}, \"transform\": [{\"filter\": \"(datum.variable === 'Max km')\"}], \"width\": 600}], \"data\": {\"name\": \"data-0c762925787587d1cbb2acf709c8ed59\"}, \"$schema\": \"https://vega.github.io/schema/vega-lite/v4.8.1.json\", \"datasets\": {\"data-0c762925787587d1cbb2acf709c8ed59\": [{\"date\": \"2020-06-01T00:00:00+00:00\", \"variable\": \"Max km\", \"distance\": 0.0}, {\"date\": \"2021-02-14T21:28:50.130220+00:00\", \"variable\": \"Max km\", \"distance\": 10602.739726027397}, {\"date\": \"2020-06-01T00:36:40+00:00\", \"variable\": \"odometer\", \"distance\": 198.041}, {\"date\": \"2020-06-02T08:18:45+00:00\", \"variable\": \"odometer\", \"distance\": 282.735}, {\"date\": \"2020-06-04T00:10:14+00:00\", \"variable\": \"odometer\", \"distance\": 295.098}, {\"date\": \"2020-06-05T00:01:48+00:00\", \"variable\": \"odometer\", \"distance\": 295.098}, {\"date\": \"2020-06-06T00:11:44+00:00\", \"variable\": \"odometer\", \"distance\": 295.098}, {\"date\": \"2020-06-07T00:11:36+00:00\", \"variable\": \"odometer\", \"distance\": 301.534}, {\"date\": \"2020-06-08T00:11:18+00:00\", \"variable\": \"odometer\", \"distance\": 305.66}, {\"date\": \"2020-06-09T00:06:48+00:00\", \"variable\": \"odometer\", \"distance\": 323.544}, {\"date\": \"2020-06-10T00:07:16+00:00\", \"variable\": \"odometer\", \"distance\": 352.162}, {\"date\": \"2020-06-11T00:06:51+00:00\", \"variable\": \"odometer\", \"distance\": 402.273}, {\"date\": \"2020-06-12T00:07:14+00:00\", \"variable\": \"odometer\", \"distance\": 421.123}, {\"date\": \"2020-06-13T00:07:02+00:00\", \"variable\": \"odometer\", \"distance\": 426.678}, {\"date\": \"2020-06-14T00:07:37+00:00\", \"variable\": \"odometer\", \"distance\": 432.066}, {\"date\": \"2020-06-15T00:07:06+00:00\", \"variable\": \"odometer\", \"distance\": 459.655}, {\"date\": \"2020-06-16T00:07:02+00:00\", \"variable\": \"odometer\", \"distance\": 579.657}, {\"date\": \"2020-06-17T00:07:15+00:00\", \"variable\": \"odometer\", \"distance\": 591.271}, {\"date\": \"2020-06-18T00:08:17+00:00\", \"variable\": \"odometer\", \"distance\": 684.703}, {\"date\": \"2020-06-19T00:07:21+00:00\", \"variable\": \"odometer\", \"distance\": 684.703}, {\"date\": \"2020-06-20T00:07:14+00:00\", \"variable\": \"odometer\", \"distance\": 706.941}, {\"date\": \"2020-06-21T00:07:33+00:00\", \"variable\": \"odometer\", \"distance\": 706.941}, {\"date\": \"2020-06-22T00:07:15+00:00\", \"variable\": \"odometer\", \"distance\": 724.277}, {\"date\": \"2020-06-23T00:07:21+00:00\", \"variable\": \"odometer\", \"distance\": 779.532}, {\"date\": \"2020-06-24T00:07:40+00:00\", \"variable\": \"odometer\", \"distance\": 790.869}, {\"date\": \"2020-06-25T00:07:24+00:00\", \"variable\": \"odometer\", \"distance\": 806.469}, {\"date\": \"2020-06-26T00:07:59+00:00\", \"variable\": \"odometer\", \"distance\": 852.205}, {\"date\": \"2020-06-27T00:07:26+00:00\", \"variable\": \"odometer\", \"distance\": 890.873}, {\"date\": \"2020-06-28T00:07:49+00:00\", \"variable\": \"odometer\", \"distance\": 890.873}, {\"date\": \"2020-06-29T00:07:31+00:00\", \"variable\": \"odometer\", \"distance\": 916.525}, {\"date\": \"2020-06-30T00:07:23+00:00\", \"variable\": \"odometer\", \"distance\": 940.159}, {\"date\": \"2020-07-01T00:09:19+00:00\", \"variable\": \"odometer\", \"distance\": 959.609}, {\"date\": \"2020-07-02T00:08:52+00:00\", \"variable\": \"odometer\", \"distance\": 1006.255}, {\"date\": \"2020-07-03T00:09:20+00:00\", \"variable\": \"odometer\", \"distance\": 1014.673}, {\"date\": \"2020-07-04T00:08:46+00:00\", \"variable\": \"odometer\", \"distance\": 1023.12}, {\"date\": \"2020-07-05T00:09:15+00:00\", \"variable\": \"odometer\", \"distance\": 1049.466}, {\"date\": \"2020-07-06T00:09:27+00:00\", \"variable\": \"odometer\", \"distance\": 1114.96}, {\"date\": \"2020-07-07T00:09:03+00:00\", \"variable\": \"odometer\", \"distance\": 1130.48}, {\"date\": \"2020-07-08T00:08:57+00:00\", \"variable\": \"odometer\", \"distance\": 1191.241}, {\"date\": \"2020-07-09T00:08:52+00:00\", \"variable\": \"odometer\", \"distance\": 1286.555}, {\"date\": \"2020-07-10T00:08:58+00:00\", \"variable\": \"odometer\", \"distance\": 1295.389}, {\"date\": \"2020-07-11T00:09:18+00:00\", \"variable\": \"odometer\", \"distance\": 1363.619}, {\"date\": \"2020-07-12T00:09:27+00:00\", \"variable\": \"odometer\", \"distance\": 1363.619}, {\"date\": \"2020-07-13T00:09:17+00:00\", \"variable\": \"odometer\", \"distance\": 1392.86}, {\"date\": \"2020-07-14T00:09:06+00:00\", \"variable\": \"odometer\", \"distance\": 1404.334}, {\"date\": \"2020-07-15T00:09:24+00:00\", \"variable\": \"odometer\", \"distance\": 1412.616}, {\"date\": \"2020-07-16T00:09:19+00:00\", \"variable\": \"odometer\", \"distance\": 1422.105}, {\"date\": \"2020-07-17T00:09:20+00:00\", \"variable\": \"odometer\", \"distance\": 1422.105}, {\"date\": \"2020-07-18T00:09:27+00:00\", \"variable\": \"odometer\", \"distance\": 1422.105}, {\"date\": \"2020-07-19T00:09:33+00:00\", \"variable\": \"odometer\", \"distance\": 1469.384}, {\"date\": \"2020-07-20T00:09:46+00:00\", \"variable\": \"odometer\", \"distance\": 1494.377}, {\"date\": \"2020-07-21T00:09:10+00:00\", \"variable\": \"odometer\", \"distance\": 1524.678}, {\"date\": \"2020-07-22T00:09:20+00:00\", \"variable\": \"odometer\", \"distance\": 1560.988}, {\"date\": \"2020-07-23T00:09:27+00:00\", \"variable\": \"odometer\", \"distance\": 1636.623}, {\"date\": \"2020-07-24T00:09:48+00:00\", \"variable\": \"odometer\", \"distance\": 1637.722}, {\"date\": \"2020-07-25T00:09:45+00:00\", \"variable\": \"odometer\", \"distance\": 1646.062}, {\"date\": \"2020-07-26T00:09:38+00:00\", \"variable\": \"odometer\", \"distance\": 1830.182}, {\"date\": \"2020-07-27T00:09:52+00:00\", \"variable\": \"odometer\", \"distance\": 2024.996}, {\"date\": \"2020-07-28T00:09:22+00:00\", \"variable\": \"odometer\", \"distance\": 2079.443}, {\"date\": \"2020-07-29T00:09:40+00:00\", \"variable\": \"odometer\", \"distance\": 2099.587}, {\"date\": \"2020-07-30T00:09:49+00:00\", \"variable\": \"odometer\", \"distance\": 2158.801}, {\"date\": \"2020-07-31T00:10:14+00:00\", \"variable\": \"odometer\", \"distance\": 2166.76}, {\"date\": \"2020-08-01T00:10:09+00:00\", \"variable\": \"odometer\", \"distance\": 2172.635}, {\"date\": \"2020-08-02T00:10:18+00:00\", \"variable\": \"odometer\", \"distance\": 2183.994}, {\"date\": \"2020-08-03T00:10:32+00:00\", \"variable\": \"odometer\", \"distance\": 2208.072}, {\"date\": \"2020-08-04T00:10:14+00:00\", \"variable\": \"odometer\", \"distance\": 2474.614}, {\"date\": \"2020-08-05T00:10:18+00:00\", \"variable\": \"odometer\", \"distance\": 2474.614}, {\"date\": \"2020-08-06T00:10:48+00:00\", \"variable\": \"odometer\", \"distance\": 2746.723}, {\"date\": \"2020-08-07T00:12:04+00:00\", \"variable\": \"odometer\", \"distance\": 2800.0}, {\"date\": \"2020-08-08T00:12:02+00:00\", \"variable\": \"odometer\", \"distance\": 2876.71}, {\"date\": \"2020-08-09T00:11:48+00:00\", \"variable\": \"odometer\", \"distance\": 2876.71}, {\"date\": \"2020-08-11T00:11:38+00:00\", \"variable\": \"odometer\", \"distance\": 3055.444}, {\"date\": \"2020-08-12T00:10:28+00:00\", \"variable\": \"odometer\", \"distance\": 3067.248}, {\"date\": \"2020-08-13T00:11:57+00:00\", \"variable\": \"odometer\", \"distance\": 3085.376}, {\"date\": \"2020-08-14T00:12:06+00:00\", \"variable\": \"odometer\", \"distance\": 3146.303}, {\"date\": \"2020-08-15T00:10:36+00:00\", \"variable\": \"odometer\", \"distance\": 3216.86}, {\"date\": \"2020-08-16T00:12:07+00:00\", \"variable\": \"odometer\", \"distance\": 3223.018}, {\"date\": \"2020-08-17T00:11:50+00:00\", \"variable\": \"odometer\", \"distance\": 3311.576}, {\"date\": \"2020-08-18T00:10:56+00:00\", \"variable\": \"odometer\", \"distance\": 3381.937}, {\"date\": \"2020-08-19T00:11:06+00:00\", \"variable\": \"odometer\", \"distance\": 3406.876}, {\"date\": \"2020-08-20T00:11:15+00:00\", \"variable\": \"odometer\", \"distance\": 3406.876}, {\"date\": \"2020-08-21T00:11:07+00:00\", \"variable\": \"odometer\", \"distance\": 3415.503}, {\"date\": \"2020-08-22T00:11:21+00:00\", \"variable\": \"odometer\", \"distance\": 3424.02}, {\"date\": \"2020-08-23T00:11:31+00:00\", \"variable\": \"odometer\", \"distance\": 3429.485}, {\"date\": \"2020-08-24T00:11:45+00:00\", \"variable\": \"odometer\", \"distance\": 3468.562}, {\"date\": \"2020-08-25T00:15:24+00:00\", \"variable\": \"odometer\", \"distance\": 3502.491}, {\"date\": \"2020-08-26T00:11:33+00:00\", \"variable\": \"odometer\", \"distance\": 3502.491}, {\"date\": \"2020-08-27T00:11:35+00:00\", \"variable\": \"odometer\", \"distance\": 3514.423}, {\"date\": \"2020-08-28T00:12:44+00:00\", \"variable\": \"odometer\", \"distance\": 3533.536}, {\"date\": \"2020-08-29T00:14:06+00:00\", \"variable\": \"odometer\", \"distance\": 3544.303}, {\"date\": \"2020-08-30T00:07:12+00:00\", \"variable\": \"odometer\", \"distance\": 3562.093}, {\"date\": \"2020-08-31T00:06:20+00:00\", \"variable\": \"odometer\", \"distance\": 3617.278}, {\"date\": \"2020-09-01T00:12:57+00:00\", \"variable\": \"odometer\", \"distance\": 3617.278}, {\"date\": \"2020-09-02T00:12:27+00:00\", \"variable\": \"odometer\", \"distance\": 3654.457}, {\"date\": \"2020-09-03T00:12:37+00:00\", \"variable\": \"odometer\", \"distance\": 3654.457}, {\"date\": \"2020-09-04T00:12:46+00:00\", \"variable\": \"odometer\", \"distance\": 3654.457}, {\"date\": \"2020-09-05T00:18:12+00:00\", \"variable\": \"odometer\", \"distance\": 3667.814}, {\"date\": \"2020-09-06T00:12:57+00:00\", \"variable\": \"odometer\", \"distance\": 3667.814}, {\"date\": \"2020-09-07T00:13:11+00:00\", \"variable\": \"odometer\", \"distance\": 3723.157}, {\"date\": \"2020-09-08T00:12:55+00:00\", \"variable\": \"odometer\", \"distance\": 3734.708}, {\"date\": \"2020-09-09T00:12:44+00:00\", \"variable\": \"odometer\", \"distance\": 3759.259}, {\"date\": \"2020-09-10T00:12:53+00:00\", \"variable\": \"odometer\", \"distance\": 3775.268}, {\"date\": \"2020-09-11T10:50:37+00:00\", \"variable\": \"odometer\", \"distance\": 3803.981}, {\"date\": \"2020-09-12T00:12:54+00:00\", \"variable\": \"odometer\", \"distance\": 3808.325}, {\"date\": \"2020-09-13T00:13:37+00:00\", \"variable\": \"odometer\", \"distance\": 3808.325}, {\"date\": \"2020-09-14T00:13:16+00:00\", \"variable\": \"odometer\", \"distance\": 3876.391}, {\"date\": \"2020-09-15T00:12:56+00:00\", \"variable\": \"odometer\", \"distance\": 3876.391}, {\"date\": \"2020-09-16T00:12:59+00:00\", \"variable\": \"odometer\", \"distance\": 3885.011}, {\"date\": \"2020-09-17T00:13:05+00:00\", \"variable\": \"odometer\", \"distance\": 3913.517}, {\"date\": \"2020-09-18T00:13:22+00:00\", \"variable\": \"odometer\", \"distance\": 3922.143}, {\"date\": \"2020-09-19T00:13:13+00:00\", \"variable\": \"odometer\", \"distance\": 3922.143}, {\"date\": \"2020-09-20T00:13:56+00:00\", \"variable\": \"odometer\", \"distance\": 3922.143}, {\"date\": \"2020-09-21T00:13:56+00:00\", \"variable\": \"odometer\", \"distance\": 3922.143}, {\"date\": \"2020-09-22T00:13:41+00:00\", \"variable\": \"odometer\", \"distance\": 3933.412}, {\"date\": \"2020-09-23T00:13:35+00:00\", \"variable\": \"odometer\", \"distance\": 4010.839}, {\"date\": \"2020-09-24T00:13:57+00:00\", \"variable\": \"odometer\", \"distance\": 4088.433}, {\"date\": \"2020-09-25T00:13:34+00:00\", \"variable\": \"odometer\", \"distance\": 4114.239}, {\"date\": \"2020-09-26T00:13:18+00:00\", \"variable\": \"odometer\", \"distance\": 4167.485}, {\"date\": \"2020-09-27T00:14:12+00:00\", \"variable\": \"odometer\", \"distance\": 4201.832}, {\"date\": \"2020-09-28T00:14:00+00:00\", \"variable\": \"odometer\", \"distance\": 4247.764}, {\"date\": \"2020-09-29T00:13:58+00:00\", \"variable\": \"odometer\", \"distance\": 4266.187}, {\"date\": \"2020-09-30T00:14:06+00:00\", \"variable\": \"odometer\", \"distance\": 4276.093}, {\"date\": \"2020-10-01T00:14:19+00:00\", \"variable\": \"odometer\", \"distance\": 4276.093}, {\"date\": \"2020-10-02T00:13:11+00:00\", \"variable\": \"odometer\", \"distance\": 4292.741}, {\"date\": \"2020-10-03T00:14:01+00:00\", \"variable\": \"odometer\", \"distance\": 4301.821}, {\"date\": \"2020-10-04T00:14:46+00:00\", \"variable\": \"odometer\", \"distance\": 4319.175}, {\"date\": \"2020-10-05T00:14:41+00:00\", \"variable\": \"odometer\", \"distance\": 4342.687}, {\"date\": \"2020-10-06T00:14:35+00:00\", \"variable\": \"odometer\", \"distance\": 4388.808}, {\"date\": \"2020-10-07T00:14:50+00:00\", \"variable\": \"odometer\", \"distance\": 4404.769}, {\"date\": \"2020-10-08T00:12:21+00:00\", \"variable\": \"odometer\", \"distance\": 4413.262}, {\"date\": \"2020-10-09T00:14:27+00:00\", \"variable\": \"odometer\", \"distance\": 4441.311}, {\"date\": \"2020-10-10T00:14:46+00:00\", \"variable\": \"odometer\", \"distance\": 4490.697}, {\"date\": \"2020-10-11T00:15:19+00:00\", \"variable\": \"odometer\", \"distance\": 4550.726}, {\"date\": \"2020-10-12T00:15:18+00:00\", \"variable\": \"odometer\", \"distance\": 4615.726}, {\"date\": \"2020-10-13T00:15:40+00:00\", \"variable\": \"odometer\", \"distance\": 4628.276}, {\"date\": \"2020-10-14T00:15:35+00:00\", \"variable\": \"odometer\", \"distance\": 4653.676}, {\"date\": \"2020-10-15T00:15:35+00:00\", \"variable\": \"odometer\", \"distance\": 4657.869}, {\"date\": \"2020-10-16T00:16:14+00:00\", \"variable\": \"odometer\", \"distance\": 4669.63}, {\"date\": \"2020-10-17T00:15:55+00:00\", \"variable\": \"odometer\", \"distance\": 4678.421}, {\"date\": \"2020-10-18T00:18:01+00:00\", \"variable\": \"odometer\", \"distance\": 4731.551}, {\"date\": \"2020-10-19T00:16:30+00:00\", \"variable\": \"odometer\", \"distance\": 4781.717}, {\"date\": \"2020-10-20T00:16:04+00:00\", \"variable\": \"odometer\", \"distance\": 4809.946}, {\"date\": \"2020-10-21T00:16:22+00:00\", \"variable\": \"odometer\", \"distance\": 4836.876}, {\"date\": \"2020-10-23T00:16:26+00:00\", \"variable\": \"odometer\", \"distance\": 4861.056}, {\"date\": \"2020-10-24T00:16:33+00:00\", \"variable\": \"odometer\", \"distance\": 4872.354}, {\"date\": \"2020-10-26T00:16:50+00:00\", \"variable\": \"odometer\", \"distance\": 4890.876}, {\"date\": \"2020-10-27T00:16:38+00:00\", \"variable\": \"odometer\", \"distance\": 4934.155}, {\"date\": \"2020-10-28T00:16:48+00:00\", \"variable\": \"odometer\", \"distance\": 4960.053}, {\"date\": \"2020-10-29T00:17:15+00:00\", \"variable\": \"odometer\", \"distance\": 4968.039}, {\"date\": \"2020-10-30T00:10:07+00:00\", \"variable\": \"odometer\", \"distance\": 4987.544}, {\"date\": \"2020-10-31T00:10:42+00:00\", \"variable\": \"odometer\", \"distance\": 5013.856}, {\"date\": \"2020-11-01T00:16:25+00:00\", \"variable\": \"odometer\", \"distance\": 5031.764}, {\"date\": \"2020-11-02T00:10:07+00:00\", \"variable\": \"odometer\", \"distance\": 5075.71}, {\"date\": \"2020-11-03T00:10:13+00:00\", \"variable\": \"odometer\", \"distance\": 5075.71}, {\"date\": \"2020-11-04T00:12:11+00:00\", \"variable\": \"odometer\", \"distance\": 5116.68}, {\"date\": \"2020-11-05T00:13:42+00:00\", \"variable\": \"odometer\", \"distance\": 5116.68}, {\"date\": \"2020-11-06T00:14:09+00:00\", \"variable\": \"odometer\", \"distance\": 5128.741}, {\"date\": \"2020-11-07T00:16:56+00:00\", \"variable\": \"odometer\", \"distance\": 5174.51}, {\"date\": \"2020-11-08T00:11:23+00:00\", \"variable\": \"odometer\", \"distance\": 5197.65}, {\"date\": \"2020-11-09T00:11:34+00:00\", \"variable\": \"odometer\", \"distance\": 5258.514}, {\"date\": \"2020-11-10T00:11:21+00:00\", \"variable\": \"odometer\", \"distance\": 5274.246}, {\"date\": \"2020-11-11T00:08:25+00:00\", \"variable\": \"odometer\", \"distance\": 5290.009}, {\"date\": \"2020-11-12T00:10:26+00:00\", \"variable\": \"odometer\", \"distance\": 5290.009}, {\"date\": \"2020-11-13T00:10:24+00:00\", \"variable\": \"odometer\", \"distance\": 5301.436}, {\"date\": \"2020-11-14T00:10:22+00:00\", \"variable\": \"odometer\", \"distance\": 5313.575}, {\"date\": \"2020-11-15T00:11:07+00:00\", \"variable\": \"odometer\", \"distance\": 5326.316}, {\"date\": \"2020-11-16T00:11:09+00:00\", \"variable\": \"odometer\", \"distance\": 5425.189}, {\"date\": \"2020-11-17T00:11:03+00:00\", \"variable\": \"odometer\", \"distance\": 5433.487}, {\"date\": \"2020-11-18T00:11:09+00:00\", \"variable\": \"odometer\", \"distance\": 5451.305}, {\"date\": \"2020-11-19T00:11:09+00:00\", \"variable\": \"odometer\", \"distance\": 5451.305}, {\"date\": \"2020-11-20T00:11:29+00:00\", \"variable\": \"odometer\", \"distance\": 5472.866}, {\"date\": \"2020-11-21T00:18:35+00:00\", \"variable\": \"odometer\", \"distance\": 5534.949}, {\"date\": \"2020-11-22T00:13:03+00:00\", \"variable\": \"odometer\", \"distance\": 5563.549}, {\"date\": \"2020-11-23T00:12:15+00:00\", \"variable\": \"odometer\", \"distance\": 5633.972}, {\"date\": \"2020-11-24T00:11:43+00:00\", \"variable\": \"odometer\", \"distance\": 5641.634}, {\"date\": \"2020-11-25T00:11:43+00:00\", \"variable\": \"odometer\", \"distance\": 5645.933}, {\"date\": \"2020-11-26T00:11:39+00:00\", \"variable\": \"odometer\", \"distance\": 5649.219}, {\"date\": \"2020-11-27T00:12:34+00:00\", \"variable\": \"odometer\", \"distance\": 5660.309}, {\"date\": \"2020-11-28T00:12:27+00:00\", \"variable\": \"odometer\", \"distance\": 5674.334}, {\"date\": \"2020-11-29T00:13:15+00:00\", \"variable\": \"odometer\", \"distance\": 5733.849}, {\"date\": \"2020-11-30T00:13:03+00:00\", \"variable\": \"odometer\", \"distance\": 5741.824}, {\"date\": \"2020-12-01T00:13:14+00:00\", \"variable\": \"odometer\", \"distance\": 5760.319}, {\"date\": \"2020-12-02T00:12:56+00:00\", \"variable\": \"odometer\", \"distance\": 5760.319}, {\"date\": \"2020-12-03T00:12:58+00:00\", \"variable\": \"odometer\", \"distance\": 5814.653}, {\"date\": \"2020-12-04T00:13:15+00:00\", \"variable\": \"odometer\", \"distance\": 5825.964}, {\"date\": \"2020-12-05T00:13:14+00:00\", \"variable\": \"odometer\", \"distance\": 5837.089}, {\"date\": \"2020-12-06T00:13:56+00:00\", \"variable\": \"odometer\", \"distance\": 5904.812}, {\"date\": \"2020-12-07T00:13:51+00:00\", \"variable\": \"odometer\", \"distance\": 5948.569}, {\"date\": \"2020-12-08T00:13:36+00:00\", \"variable\": \"odometer\", \"distance\": 5948.569}, {\"date\": \"2020-12-09T00:13:37+00:00\", \"variable\": \"odometer\", \"distance\": 5948.569}, {\"date\": \"2020-12-10T00:13:54+00:00\", \"variable\": \"odometer\", \"distance\": 5948.569}, {\"date\": \"2020-12-11T00:14:01+00:00\", \"variable\": \"odometer\", \"distance\": 5960.282}, {\"date\": \"2020-12-12T00:13:46+00:00\", \"variable\": \"odometer\", \"distance\": 5960.282}, {\"date\": \"2020-12-13T00:14:20+00:00\", \"variable\": \"odometer\", \"distance\": 5964.5}, {\"date\": \"2020-12-14T00:14:11+00:00\", \"variable\": \"odometer\", \"distance\": 5988.985}, {\"date\": \"2020-12-15T00:15:47+00:00\", \"variable\": \"odometer\", \"distance\": 6049.735}, {\"date\": \"2020-12-16T00:14:08+00:00\", \"variable\": \"odometer\", \"distance\": 6057.692}, {\"date\": \"2020-12-17T00:15:51+00:00\", \"variable\": \"odometer\", \"distance\": 6075.412}, {\"date\": \"2020-12-18T00:15:48+00:00\", \"variable\": \"odometer\", \"distance\": 6075.412}, {\"date\": \"2020-12-19T00:15:34+00:00\", \"variable\": \"odometer\", \"distance\": 6091.96}, {\"date\": \"2020-12-20T00:14:49+00:00\", \"variable\": \"odometer\", \"distance\": 6104.685}, {\"date\": \"2020-12-21T00:17:32+00:00\", \"variable\": \"odometer\", \"distance\": 6142.15}, {\"date\": \"2020-12-22T00:19:05+00:00\", \"variable\": \"odometer\", \"distance\": 6179.914}, {\"date\": \"2020-12-23T00:20:53+00:00\", \"variable\": \"odometer\", \"distance\": 6210.464}, {\"date\": \"2020-12-24T00:24:05+00:00\", \"variable\": \"odometer\", \"distance\": 6210.464}, {\"date\": \"2020-12-25T00:21:13+00:00\", \"variable\": \"odometer\", \"distance\": 6215.309}, {\"date\": \"2020-12-26T00:19:29+00:00\", \"variable\": \"odometer\", \"distance\": 6226.157}, {\"date\": \"2020-12-27T00:20:43+00:00\", \"variable\": \"odometer\", \"distance\": 6231.125}, {\"date\": \"2020-12-28T00:21:10+00:00\", \"variable\": \"odometer\", \"distance\": 6275.58}, {\"date\": \"2020-12-29T00:22:23+00:00\", \"variable\": \"odometer\", \"distance\": 6344.839}, {\"date\": \"2020-12-30T00:23:58+00:00\", \"variable\": \"odometer\", \"distance\": 6390.278}, {\"date\": \"2020-12-31T00:25:53+00:00\", \"variable\": \"odometer\", \"distance\": 6390.278}, {\"date\": \"2021-01-01T00:24:46+00:00\", \"variable\": \"odometer\", \"distance\": 6414.876}, {\"date\": \"2021-01-02T00:23:54+00:00\", \"variable\": \"odometer\", \"distance\": 6427.423}, {\"date\": \"2021-01-03T00:25:18+00:00\", \"variable\": \"odometer\", \"distance\": 6531.064}, {\"date\": \"2021-01-04T00:26:32+00:00\", \"variable\": \"odometer\", \"distance\": 6569.228}, {\"date\": \"2021-01-05T00:26:48+00:00\", \"variable\": \"odometer\", \"distance\": 6600.343}, {\"date\": \"2021-01-06T00:27:16+00:00\", \"variable\": \"odometer\", \"distance\": 6655.248}, {\"date\": \"2021-01-07T00:30:30+00:00\", \"variable\": \"odometer\", \"distance\": 6655.248}, {\"date\": \"2021-01-08T00:29:37+00:00\", \"variable\": \"odometer\", \"distance\": 6669.068}, {\"date\": \"2021-01-09T00:29:41+00:00\", \"variable\": \"odometer\", \"distance\": 6713.075}, {\"date\": \"2021-01-10T00:30:58+00:00\", \"variable\": \"odometer\", \"distance\": 6731.915}, {\"date\": \"2021-01-11T00:30:32+00:00\", \"variable\": \"odometer\", \"distance\": 6769.296}, {\"date\": \"2021-01-12T00:33:32+00:00\", \"variable\": \"odometer\", \"distance\": 6780.701}, {\"date\": \"2021-01-13T00:40:10+00:00\", \"variable\": \"odometer\", \"distance\": 6793.703}, {\"date\": \"2021-01-14T00:47:50+00:00\", \"variable\": \"odometer\", \"distance\": 6793.703}, {\"date\": \"2021-01-15T00:42:56+00:00\", \"variable\": \"odometer\", \"distance\": 6799.999}, {\"date\": \"2021-01-16T00:45:52+00:00\", \"variable\": \"odometer\", \"distance\": 6811.639}, {\"date\": \"2021-01-17T00:42:51+00:00\", \"variable\": \"odometer\", \"distance\": 6907.855}, {\"date\": \"2021-01-18T00:41:53+00:00\", \"variable\": \"odometer\", \"distance\": 6934.236}, {\"date\": \"2021-01-19T00:45:34+00:00\", \"variable\": \"odometer\", \"distance\": 7011.025}, {\"date\": \"2021-01-20T00:47:08+00:00\", \"variable\": \"odometer\", \"distance\": 7023.835}, {\"date\": \"2021-01-21T00:46:47+00:00\", \"variable\": \"odometer\", \"distance\": 7023.835}, {\"date\": \"2021-01-22T00:44:16+00:00\", \"variable\": \"odometer\", \"distance\": 7034.5}, {\"date\": \"2021-01-23T00:44:49+00:00\", \"variable\": \"odometer\", \"distance\": 7044.699}, {\"date\": \"2021-01-24T00:43:15+00:00\", \"variable\": \"odometer\", \"distance\": 7107.987}, {\"date\": \"2021-01-25T00:44:02+00:00\", \"variable\": \"odometer\", \"distance\": 7141.701}, {\"date\": \"2021-01-26T00:17:51+00:00\", \"variable\": \"odometer\", \"distance\": 7149.1}, {\"date\": \"2021-02-14T00:13:13+00:00\", \"variable\": \"odometer\", \"distance\": 7552.236}]}}, {\"mode\": \"vega-lite\"});\n",
       "</script>"
      ],
      "text/plain": [
       "alt.LayerChart(...)"
      ]
     },
     "execution_count": 6,
     "metadata": {},
     "output_type": "execute_result"
    }
   ],
   "source": [
    "base = alt.Chart(\n",
    "    df,\n",
    "    title=(\n",
    "        {\n",
    "            \"text\": \"Körda kilometer sedan 1 juni 2020\",\n",
    "            \"subtitle\": f'I dag, {dt.datetime.today().strftime(\"%Y-%m-%d\")}, har vi {remaining:,.0f} km kvar att köra till max utrymme.',\n",
    "        }\n",
    "    ),\n",
    "    width=600,\n",
    "    height=500,\n",
    ").encode(\n",
    "    x=alt.X(\n",
    "        \"yearmonthdate(date)\",\n",
    "        title=None,\n",
    "        scale=alt.Scale(domain=(start_date, end_date)),\n",
    "        axis=alt.Axis(format=\"%b %Y\"),\n",
    "    ),\n",
    "    y=alt.Y(\"distance\", axis=None),\n",
    "    color=alt.Color(\"variable\", title=\"\", scale=alt.Scale(scheme=\"dark2\"), legend=None),\n",
    "    tooltip=[alt.Tooltip(\"date\", title=\"Datum\"), \"variable\"],\n",
    ")\n",
    "\n",
    "current_km = base.mark_line(size=4).transform_filter(alt.datum.variable == \"odometer\")\n",
    "max_km = base.mark_line(size=1).transform_filter(alt.datum.variable == \"Max km\")\n",
    "\n",
    "# See https://github.com/altair-viz/altair/issues/2405#issuecomment-778812971\n",
    "labels = (\n",
    "    alt.Chart(df)\n",
    "    .mark_text(align=\"left\", dx=3, fontSize=14)\n",
    "    .encode(\n",
    "        alt.X(\"date\", aggregate=\"max\"),\n",
    "        alt.Y(\"distance\", aggregate={\"argmax\": \"date\"}),\n",
    "        alt.Text(\"label:N\", aggregate={\"argmax\": \"date\"}),\n",
    "        detail=alt.Detail(\"variable\"),\n",
    "    )\n",
    "    .transform_calculate(\n",
    "        label=\"(datum.variable == 'odometer' ? 'Har kört ' + round(datum.distance) + ' km' : 'Max ' + round(datum.distance) + ' km')\"\n",
    "    )\n",
    ")\n",
    "\n",
    "(labels + current_km + max_km).configure_axis(tickCount=4)"
   ]
  }
 ],
 "metadata": {
  "kernelspec": {
   "display_name": "Python 3.8.0 64-bit ('3.8.0': pyenv)",
   "language": "python",
   "name": "python38064bit380pyenv663c04aa123640ccb340a8745709dbbc"
  },
  "language_info": {
   "codemirror_mode": {
    "name": "ipython",
    "version": 3
   },
   "file_extension": ".py",
   "mimetype": "text/x-python",
   "name": "python",
   "nbconvert_exporter": "python",
   "pygments_lexer": "ipython3",
   "version": "3.8.0"
  }
 },
 "nbformat": 4,
 "nbformat_minor": 4
}
