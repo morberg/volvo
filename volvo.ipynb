{
 "cells": [
  {
   "cell_type": "code",
   "execution_count": 7,
   "metadata": {},
   "outputs": [
    {
     "name": "stdout",
     "output_type": "stream",
     "text": [
      "The lab_black extension is already loaded. To reload it, use:\n",
      "  %reload_ext lab_black\n"
     ]
    }
   ],
   "source": [
    "%load_ext lab_black\n",
    "import pandas as pd\n",
    "import altair as alt\n",
    "from IPython.display import Markdown as md\n",
    "\n",
    "max_annual_distance = 15_000_000\n",
    "csv_file = \"odometer.csv\"\n",
    "# Dates to show in graph\n",
    "start_date = \"2020-06-01\"\n",
    "end_date = pd.datetime.today() + pd.to_timedelta(2, unit=\"W\")\n",
    "end_date = end_date.isoformat()\n",
    "target_distance = (\n",
    "    max_annual_distance\n",
    "    * (pd.to_datetime(end_date) - pd.to_datetime(start_date)).days\n",
    "    / 365\n",
    ")"
   ]
  },
  {
   "cell_type": "code",
   "execution_count": 5,
   "metadata": {},
   "outputs": [],
   "source": [
    "df_csv = pd.read_csv(csv_file, parse_dates=[\"date\"])\n",
    "df_csv = df_csv.melt(\"date\", value_name=\"distance\")\n",
    "df_max = pd.DataFrame(\n",
    "    {\n",
    "        \"date\": pd.to_datetime([start_date, end_date], utc=True),\n",
    "        \"variable\": \"max_distance\",\n",
    "        \"distance\": [0, target_distance],\n",
    "    }\n",
    ")\n",
    "df = pd.concat([df_max, df_csv])"
   ]
  },
  {
   "cell_type": "markdown",
   "metadata": {},
   "source": [
    "# Körda kilometer\n",
    "Antal körda kilometer jämfört med vad som gäller i leasingavtalet. Sista datumet i grafen är 2 veckor efter senaste uppdateringen."
   ]
  },
  {
   "cell_type": "code",
   "execution_count": 10,
   "metadata": {},
   "outputs": [
    {
     "data": {
      "text/html": [
       "\n",
       "<div id=\"altair-viz-56bcc84d97344782ae3a338cbc8a0797\"></div>\n",
       "<script type=\"text/javascript\">\n",
       "  (function(spec, embedOpt){\n",
       "    let outputDiv = document.currentScript.previousElementSibling;\n",
       "    if (outputDiv.id !== \"altair-viz-56bcc84d97344782ae3a338cbc8a0797\") {\n",
       "      outputDiv = document.getElementById(\"altair-viz-56bcc84d97344782ae3a338cbc8a0797\");\n",
       "    }\n",
       "    const paths = {\n",
       "      \"vega\": \"https://cdn.jsdelivr.net/npm//vega@5?noext\",\n",
       "      \"vega-lib\": \"https://cdn.jsdelivr.net/npm//vega-lib?noext\",\n",
       "      \"vega-lite\": \"https://cdn.jsdelivr.net/npm//vega-lite@4.8.1?noext\",\n",
       "      \"vega-embed\": \"https://cdn.jsdelivr.net/npm//vega-embed@6?noext\",\n",
       "    };\n",
       "\n",
       "    function loadScript(lib) {\n",
       "      return new Promise(function(resolve, reject) {\n",
       "        var s = document.createElement('script');\n",
       "        s.src = paths[lib];\n",
       "        s.async = true;\n",
       "        s.onload = () => resolve(paths[lib]);\n",
       "        s.onerror = () => reject(`Error loading script: ${paths[lib]}`);\n",
       "        document.getElementsByTagName(\"head\")[0].appendChild(s);\n",
       "      });\n",
       "    }\n",
       "\n",
       "    function showError(err) {\n",
       "      outputDiv.innerHTML = `<div class=\"error\" style=\"color:red;\">${err}</div>`;\n",
       "      throw err;\n",
       "    }\n",
       "\n",
       "    function displayChart(vegaEmbed) {\n",
       "      vegaEmbed(outputDiv, spec, embedOpt)\n",
       "        .catch(err => showError(`Javascript Error: ${err.message}<br>This usually means there's a typo in your chart specification. See the javascript console for the full traceback.`));\n",
       "    }\n",
       "\n",
       "    if(typeof define === \"function\" && define.amd) {\n",
       "      requirejs.config({paths});\n",
       "      require([\"vega-embed\"], displayChart, err => showError(`Error loading script: ${err.message}`));\n",
       "    } else if (typeof vegaEmbed === \"function\") {\n",
       "      displayChart(vegaEmbed);\n",
       "    } else {\n",
       "      loadScript(\"vega\")\n",
       "        .then(() => loadScript(\"vega-lite\"))\n",
       "        .then(() => loadScript(\"vega-embed\"))\n",
       "        .catch(showError)\n",
       "        .then(() => displayChart(vegaEmbed));\n",
       "    }\n",
       "  })({\"config\": {\"view\": {\"continuousWidth\": 400, \"continuousHeight\": 300}}, \"data\": {\"name\": \"data-056b9873676aaf247baf84f577aee4e7\"}, \"mark\": \"line\", \"encoding\": {\"color\": {\"type\": \"nominal\", \"field\": \"variable\"}, \"tooltip\": [{\"type\": \"temporal\", \"field\": \"date\"}, {\"type\": \"quantitative\", \"field\": \"distance\"}, {\"type\": \"nominal\", \"field\": \"variable\"}], \"x\": {\"type\": \"temporal\", \"field\": \"date\", \"scale\": {\"domain\": [\"2020-06-01\", \"2020-06-18T17:00:40.237719\"]}, \"timeUnit\": \"yearmonthdate\"}, \"y\": {\"type\": \"quantitative\", \"field\": \"distance\"}}, \"selection\": {\"selector003\": {\"type\": \"interval\", \"bind\": \"scales\", \"encodings\": [\"x\", \"y\"]}}, \"$schema\": \"https://vega.github.io/schema/vega-lite/v4.8.1.json\", \"datasets\": {\"data-056b9873676aaf247baf84f577aee4e7\": [{\"date\": \"2020-06-01T00:00:00+00:00\", \"variable\": \"max_distance\", \"distance\": 0.0}, {\"date\": \"2020-06-18T16:59:41.651537+00:00\", \"variable\": \"max_distance\", \"distance\": 698630.1369863014}, {\"date\": \"2020-06-01T00:36:40+00:00\", \"variable\": \"odometer\", \"distance\": 198041.0}, {\"date\": \"2020-06-02T08:18:45+00:00\", \"variable\": \"odometer\", \"distance\": 282735.0}, {\"date\": \"2020-06-04T00:10:14+00:00\", \"variable\": \"odometer\", \"distance\": 295098.0}, {\"date\": \"2020-06-04T08:42:12+00:00\", \"variable\": \"odometer\", \"distance\": 295098.0}]}}, {\"mode\": \"vega-lite\"});\n",
       "</script>"
      ],
      "text/plain": [
       "alt.Chart(...)"
      ]
     },
     "execution_count": 10,
     "metadata": {},
     "output_type": "execute_result"
    }
   ],
   "source": [
    "alt.Chart(df).mark_line().encode(\n",
    "    x=alt.X(\"yearmonthdate(date)\", scale=alt.Scale(domain=(start_date, end_date))),\n",
    "    y=alt.X(\"distance\"),  # scale=alt.Scale(domain=(0, 500000))),\n",
    "    color=\"variable\",\n",
    "    tooltip=[\"date\", \"distance\", \"variable\"],\n",
    ").interactive()"
   ]
  },
  {
   "cell_type": "code",
   "execution_count": 11,
   "metadata": {},
   "outputs": [
    {
     "data": {
      "text/markdown": [
       "Senast uppdaterad: 2020-06-04"
      ],
      "text/plain": [
       "<IPython.core.display.Markdown object>"
      ]
     },
     "execution_count": 11,
     "metadata": {},
     "output_type": "execute_result"
    }
   ],
   "source": [
    "md(f\"Senast uppdaterad: {pd.datetime.today().strftime('%Y-%m-%d')}\")"
   ]
  }
 ],
 "metadata": {
  "kernelspec": {
   "display_name": "Python 3.8.0 64-bit ('3.8.0': pyenv)",
   "language": "python",
   "name": "python38064bit380pyenv663c04aa123640ccb340a8745709dbbc"
  },
  "language_info": {
   "codemirror_mode": {
    "name": "ipython",
    "version": 3
   },
   "file_extension": ".py",
   "mimetype": "text/x-python",
   "name": "python",
   "nbconvert_exporter": "python",
   "pygments_lexer": "ipython3",
   "version": "3.8.0"
  }
 },
 "nbformat": 4,
 "nbformat_minor": 4
}
